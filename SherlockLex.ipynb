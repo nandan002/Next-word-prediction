{
  "nbformat": 4,
  "nbformat_minor": 0,
  "metadata": {
    "colab": {
      "name": "SherlockLex.ipynb",
      "provenance": [],
      "collapsed_sections": []
    },
    "kernelspec": {
      "name": "python3",
      "display_name": "Python 3"
    }
  },
  "cells": [
    {
      "cell_type": "code",
      "metadata": {
        "id": "bSWYHHGMHXIU",
        "colab_type": "code",
        "colab": {}
      },
      "source": [
        "from keras.models import Sequential\n",
        "from keras.layers import Dense,Activation,LSTM,Dropout,GRU\n",
        "from keras.optimizers import RMSprop\n",
        "from keras.utils.data_utils import get_file\n",
        "import keras\n",
        "import random\n",
        "import numpy as np\n"
      ],
      "execution_count": null,
      "outputs": []
    },
    {
      "cell_type": "code",
      "metadata": {
        "id": "e23hnwXD0G7C",
        "colab_type": "code",
        "colab": {}
      },
      "source": [
        "text=open('Sherlock.txt').read().lower()"
      ],
      "execution_count": null,
      "outputs": []
    },
    {
      "cell_type": "code",
      "metadata": {
        "id": "O5QpWtLp0OKh",
        "colab_type": "code",
        "colab": {
          "base_uri": "https://localhost:8080/",
          "height": 34
        },
        "outputId": "e620ece3-6c03-4d5e-a82f-812edc691bc6"
      },
      "source": [
        "print('Given script has '+str(len(text)))"
      ],
      "execution_count": null,
      "outputs": [
        {
          "output_type": "stream",
          "text": [
            "Given script has 581862\n"
          ],
          "name": "stdout"
        }
      ]
    },
    {
      "cell_type": "code",
      "metadata": {
        "id": "jZxwSOCL0Wh-",
        "colab_type": "code",
        "colab": {
          "base_uri": "https://localhost:8080/",
          "height": 54
        },
        "outputId": "357815f6-b919-4fea-a37c-856659c181e9"
      },
      "source": [
        "text=text[1302:]\n",
        "for ch in ['0','1', '2', '3', '4', '5', '6', '7', '8', '9', '!', '\"', '$', '%', '&', '~', '`', '(', ')', '*',\n",
        "          '-', '/', ';', '@', '?', ':', '©', '¢', 'ã', '\\xa0', '\\n', '\\r', '.']:\n",
        "  if ch in text:\n",
        "    text=text.replace(ch,' ')\n",
        "\n",
        "print(set(text))"
      ],
      "execution_count": null,
      "outputs": [
        {
          "output_type": "stream",
          "text": [
            "{'n', \"'\", 'a', 's', 'é', 'l', 'w', 'p', 'à', 'u', ',', 'x', 'o', 'â', 'h', 'm', 'f', 'z', 'r', 'y', 'c', 'b', 'd', ' ', 'è', 'v', 't', 'e', 'g', 'q', 'j', 'k', 'i'}\n"
          ],
          "name": "stdout"
        }
      ]
    },
    {
      "cell_type": "code",
      "metadata": {
        "id": "8fL4k1CT0q5b",
        "colab_type": "code",
        "colab": {}
      },
      "source": [
        "def window_transform(text,window_size,step_size):\n",
        "  inputs=[]\n",
        "  outputs=[]\n",
        "\n",
        "  n_batches=int((len(text)-window_size)/step_size)\n",
        "\n",
        "  for i in range(n_batches-1):\n",
        "    a=text[i*step_size:((i*step_size)+window_size)]\n",
        "    inputs.append(a)\n",
        "    b=text[(i*step_size)+window_size]\n",
        "    outputs.append(b)\n",
        "\n",
        "  return inputs,outputs\n"
      ],
      "execution_count": null,
      "outputs": []
    },
    {
      "cell_type": "code",
      "metadata": {
        "id": "5ztaWOif1wi6",
        "colab_type": "code",
        "colab": {}
      },
      "source": [
        "window_size=50\n",
        "step_size=3\n",
        "inputs,outputs=window_transform(text,window_size,step_size)"
      ],
      "execution_count": null,
      "outputs": []
    },
    {
      "cell_type": "code",
      "metadata": {
        "id": "BaqD4Out145J",
        "colab_type": "code",
        "colab": {
          "base_uri": "https://localhost:8080/",
          "height": 34
        },
        "outputId": "4c2fbcec-201a-4479-b625-b93cda2b2280"
      },
      "source": [
        "inputs[500],outputs[500]"
      ],
      "execution_count": null,
      "outputs": [
        {
          "output_type": "execute_result",
          "data": {
            "text/plain": [
              "('een cocaine and ambition, the drowsiness of the dr', 'u')"
            ]
          },
          "metadata": {
            "tags": []
          },
          "execution_count": 59
        }
      ]
    },
    {
      "cell_type": "code",
      "metadata": {
        "id": "zjO72o6r1-ym",
        "colab_type": "code",
        "colab": {}
      },
      "source": [
        "chars=sorted(set(text))"
      ],
      "execution_count": null,
      "outputs": []
    },
    {
      "cell_type": "code",
      "metadata": {
        "id": "x4190ywj2NQJ",
        "colab_type": "code",
        "colab": {}
      },
      "source": [
        "chars_indices=dict((c,i) for i, c in enumerate(chars))"
      ],
      "execution_count": null,
      "outputs": []
    },
    {
      "cell_type": "code",
      "metadata": {
        "id": "IzGkjLo-2X5X",
        "colab_type": "code",
        "colab": {}
      },
      "source": [
        "indices_chars=dict((i,c) for i,c in enumerate(chars))"
      ],
      "execution_count": null,
      "outputs": []
    },
    {
      "cell_type": "code",
      "metadata": {
        "id": "yvlDJf4Q2ylf",
        "colab_type": "code",
        "colab": {}
      },
      "source": [
        "def encode_io_pairs(text,window_size,step_size):\n",
        "  num_chars=len(chars)\n",
        "\n",
        "  inputs,outputs=window_transform(text,window_size,step_size)\n",
        "\n",
        "  X=np.zeros((len(inputs),window_size,num_chars),dtype=np.bool)\n",
        "  Y=np.zeros((len(inputs),num_chars),dtype=np.bool)\n",
        "\n",
        "  for i, sentence in enumerate(inputs):\n",
        "    for t, char in enumerate(sentence):\n",
        "      X[i,t,chars_indices[char]]=1\n",
        "    Y[i,chars_indices[outputs[i]]]=1\n",
        "  \n",
        "  return X,Y\n",
        "\n",
        "X,Y=encode_io_pairs(text,window_size,step_size)"
      ],
      "execution_count": null,
      "outputs": []
    },
    {
      "cell_type": "code",
      "metadata": {
        "id": "b6DCwl-V45eL",
        "colab_type": "code",
        "colab": {}
      },
      "source": [
        "model=Sequential()\n",
        "model.add(GRU(120,input_shape=(window_size,len(chars))))\n",
        "model.add(Dropout(0.35))\n",
        "model.add(Dense(len(chars),activation='relu'))\n",
        "model.add(Dense(Y.shape[1],activation='softmax'))"
      ],
      "execution_count": null,
      "outputs": []
    },
    {
      "cell_type": "code",
      "metadata": {
        "id": "bkuR-38E5wV4",
        "colab_type": "code",
        "colab": {
          "base_uri": "https://localhost:8080/",
          "height": 706
        },
        "outputId": "7de4f192-0c2e-419d-da78-0082dd18bde5"
      },
      "source": [
        "model.compile(loss='categorical_crossentropy',optimizer='RMSprop')\n",
        "\n",
        "Xsmall=X[:20000,:,:]\n",
        "Ysmall=Y[:20000,:]\n",
        "\n",
        "model.fit(Xsmall,Ysmall,batch_size=512,epochs=20)"
      ],
      "execution_count": null,
      "outputs": [
        {
          "output_type": "stream",
          "text": [
            "Epoch 1/20\n",
            "20000/20000 [==============================] - 19s 972us/step - loss: 3.0889\n",
            "Epoch 2/20\n",
            "20000/20000 [==============================] - 19s 965us/step - loss: 2.8265\n",
            "Epoch 3/20\n",
            "20000/20000 [==============================] - 19s 965us/step - loss: 2.7051\n",
            "Epoch 4/20\n",
            "20000/20000 [==============================] - 19s 964us/step - loss: 2.5904\n",
            "Epoch 5/20\n",
            "20000/20000 [==============================] - 19s 964us/step - loss: 2.5048\n",
            "Epoch 6/20\n",
            "20000/20000 [==============================] - 19s 965us/step - loss: 2.4380\n",
            "Epoch 7/20\n",
            "20000/20000 [==============================] - 19s 957us/step - loss: 2.3895\n",
            "Epoch 8/20\n",
            "20000/20000 [==============================] - 19s 957us/step - loss: 2.3470\n",
            "Epoch 9/20\n",
            "20000/20000 [==============================] - 19s 954us/step - loss: 2.3140\n",
            "Epoch 10/20\n",
            "20000/20000 [==============================] - 19s 955us/step - loss: 2.2821\n",
            "Epoch 11/20\n",
            "20000/20000 [==============================] - 19s 954us/step - loss: 2.2539\n",
            "Epoch 12/20\n",
            "20000/20000 [==============================] - 19s 954us/step - loss: 2.2296\n",
            "Epoch 13/20\n",
            "20000/20000 [==============================] - 19s 959us/step - loss: 2.1988\n",
            "Epoch 14/20\n",
            "20000/20000 [==============================] - 19s 953us/step - loss: 2.1744\n",
            "Epoch 15/20\n",
            "20000/20000 [==============================] - 19s 953us/step - loss: 2.1526\n",
            "Epoch 16/20\n",
            "20000/20000 [==============================] - 19s 969us/step - loss: 2.1338\n",
            "Epoch 17/20\n",
            "20000/20000 [==============================] - 19s 963us/step - loss: 2.1155\n",
            "Epoch 18/20\n",
            "20000/20000 [==============================] - 19s 956us/step - loss: 2.0992\n",
            "Epoch 19/20\n",
            "20000/20000 [==============================] - 19s 949us/step - loss: 2.0787\n",
            "Epoch 20/20\n",
            "20000/20000 [==============================] - 19s 953us/step - loss: 2.0655\n"
          ],
          "name": "stdout"
        },
        {
          "output_type": "execute_result",
          "data": {
            "text/plain": [
              "<keras.callbacks.callbacks.History at 0x7f690b723e48>"
            ]
          },
          "metadata": {
            "tags": []
          },
          "execution_count": 102
        }
      ]
    },
    {
      "cell_type": "code",
      "metadata": {
        "id": "_ffD-8ZEL7Ne",
        "colab_type": "code",
        "colab": {}
      },
      "source": [
        "def predict_next_chars(model, input_chars, num_to_predict):     \n",
        "    pred_chars = ''\n",
        "    for i in range(num_to_predict):\n",
        "        # Converting this round's predicted characters to numerical input    \n",
        "        x_test = np.zeros((1, window_size, len(chars)))\n",
        "        for t, char in enumerate(input_chars):\n",
        "            x_test[0, t, chars_indices[char]] = 1.\n",
        "        # make this round's prediction\n",
        "        test_predict = model.predict(x_test,verbose = 0)[0]\n",
        "        # translate numerical prediction back to characters\n",
        "        r = np.argmax(test_predict)                           \n",
        "        d = indices_chars[r] \n",
        "        # update predicted_chars and input\n",
        "        pred_chars+=d\n",
        "        input_chars+=d\n",
        "        input_chars = input_chars[1:]\n",
        "    return pred_chars\n"
      ],
      "execution_count": null,
      "outputs": []
    },
    {
      "cell_type": "code",
      "metadata": {
        "id": "jwJw8qiANBkg",
        "colab_type": "code",
        "colab": {
          "base_uri": "https://localhost:8080/",
          "height": 67
        },
        "outputId": "f0c5ecc7-7de6-481e-9591-cbc83d6d29e9"
      },
      "source": [
        "# Prediction\n",
        "start = 89\n",
        "num_to_predict = 10\n",
        "input_chars = text[start: start + window_size]\n",
        "print('Complete sequence:', text[start:start + window_size + num_to_predict])\n",
        "print('Input sequence:', input_chars)\n",
        "print('Output sequence:', predict_next_chars(model, input_chars, num_to_predict = num_to_predict))\n"
      ],
      "execution_count": null,
      "outputs": [
        {
          "output_type": "stream",
          "text": [
            "Complete sequence: otion akin to love for irene adler  all emotions, and that o\n",
            "Input sequence: otion akin to love for irene adler  all emotions, \n",
            "Output sequence: and he mes\n"
          ],
          "name": "stdout"
        }
      ]
    }
  ]
}